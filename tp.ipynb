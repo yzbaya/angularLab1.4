{
  "nbformat": 4,
  "nbformat_minor": 0,
  "metadata": {
    "colab": {
      "provenance": [],
      "collapsed_sections": [],
      "authorship_tag": "ABX9TyNhcdOJWmuro2ZgEQen7Fan",
      "include_colab_link": true
    },
    "kernelspec": {
      "name": "python3",
      "display_name": "Python 3"
    },
    "language_info": {
      "name": "python"
    }
  },
  "cells": [
    {
      "cell_type": "markdown",
      "metadata": {
        "id": "view-in-github",
        "colab_type": "text"
      },
      "source": [
        "<a href=\"https://colab.research.google.com/github/yzbaya/angularLab1.4/blob/master/tp.ipynb\" target=\"_parent\"><img src=\"https://colab.research.google.com/assets/colab-badge.svg\" alt=\"Open In Colab\"/></a>"
      ]
    },
    {
      "cell_type": "code",
      "execution_count": null,
      "metadata": {
        "colab": {
          "base_uri": "https://localhost:8080/"
        },
        "id": "mFlF_0wb50YP",
        "outputId": "748a4c2c-86a4-4dbf-82bd-0f3098345551"
      },
      "outputs": [
        {
          "output_type": "stream",
          "name": "stdout",
          "text": [
            "36\n"
          ]
        }
      ],
      "source": [
        "liste= [2, 3, 6]\n",
        "s=1\n",
        "for i in liste :\n",
        "  s=s*i\n",
        "print(s)"
      ]
    },
    {
      "cell_type": "code",
      "source": [
        "list1= [(2, 5), (1, 2), (4, 4), (2, 3), (2, 1)]\n",
        "list1.sort(key=lambda x:(x[-1]))\n",
        "print(list1)"
      ],
      "metadata": {
        "colab": {
          "base_uri": "https://localhost:8080/"
        },
        "id": "WjlB1UVr6EKn",
        "outputId": "d024f842-1c7d-40f6-c64a-410a3e7bd481"
      },
      "execution_count": 5,
      "outputs": [
        {
          "output_type": "stream",
          "name": "stdout",
          "text": [
            "[(2, 1), (1, 2), (2, 3), (4, 4), (2, 5)]\n"
          ]
        }
      ]
    },
    {
      "cell_type": "code",
      "source": [
        "d1={'a': 100, 'b': 200, 'c':300}\n",
        "d2={'a': 300, 'b': 200, 'd':400}\n",
        "d3={}\n",
        "for i,j in d1.items():\n",
        "  for k,l in d2.items():\n",
        "    if i==k:\n",
        "      d3[i]=j+l;\n",
        "print(d3)"
      ],
      "metadata": {
        "colab": {
          "base_uri": "https://localhost:8080/"
        },
        "id": "ZpPbE4xr65BZ",
        "outputId": "95982b4e-5ee6-4573-9577-48e45bebcf47"
      },
      "execution_count": null,
      "outputs": [
        {
          "output_type": "stream",
          "name": "stdout",
          "text": [
            "{'a': 400, 'b': 400}\n"
          ]
        }
      ]
    },
    {
      "cell_type": "code",
      "source": [
        "n= int (input('donner n= '))\n",
        "d=dict()\n",
        "for i in range(1,n+1):\n",
        "    d[i]=i*i\n",
        "print(d)"
      ],
      "metadata": {
        "colab": {
          "base_uri": "https://localhost:8080/"
        },
        "id": "I7IgO72kpZ63",
        "outputId": "fd88a178-b606-42cc-9c7b-c5ccbecdc895"
      },
      "execution_count": null,
      "outputs": [
        {
          "output_type": "stream",
          "name": "stdout",
          "text": [
            "donner n= 4\n",
            "{1: 1, 2: 4, 3: 9, 4: 16}\n"
          ]
        }
      ]
    },
    {
      "cell_type": "code",
      "source": [
        "mylist = [[7, 8], [1, 2, 3], [2, 5, 6]]\n",
        "mylistSort = sorted(mylist, key = lambda x: x[-1])\n",
        "print(mylistSort)"
      ],
      "metadata": {
        "colab": {
          "base_uri": "https://localhost:8080/"
        },
        "id": "DD4UrJZp6dak",
        "outputId": "9c859200-0571-46bb-d8a3-1e53fb7b698b"
      },
      "execution_count": 7,
      "outputs": [
        {
          "output_type": "stream",
          "name": "stdout",
          "text": [
            "[[1, 2, 3], [2, 5, 6], [7, 8]]\n"
          ]
        }
      ]
    },
    {
      "cell_type": "code",
      "source": [],
      "metadata": {
        "id": "NLcFtFxguyDr"
      },
      "execution_count": null,
      "outputs": []
    }
  ]
}